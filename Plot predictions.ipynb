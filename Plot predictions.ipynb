{
 "cells": [
  {
   "cell_type": "markdown",
   "id": "medium-manual",
   "metadata": {},
   "source": [
    "# Example of plotting the predictions\n",
    "\n",
    "In the first cell you first find the code that was in the generate_model_output.py, so that we get the predicitons. In the cell after you load in the colormap and the cell after shows an example of how to plot it with coordinates."
   ]
  },
  {
   "cell_type": "code",
   "execution_count": 12,
   "id": "little-platform",
   "metadata": {},
   "outputs": [],
   "source": [
    "# -*- coding: utf-8 -*-\n",
    "\"\"\"\n",
    "Created on Mon Apr 18 20:27:53 2022\n",
    "\n",
    "@author: Diewertje\n",
    "\"\"\"\n",
    "import pandas as pd\n",
    "import numpy as np\n",
    "import torch\n",
    "import os\n",
    "\n",
    "from nowcasting.config import cfg\n",
    "from nowcasting.models.encoder import Encoder\n",
    "from nowcasting.models.forecaster import Forecaster\n",
    "from nowcasting.net_params import encoder_params, forecaster_params\n",
    "from nowcasting.models.model import EF\n",
    "from nowcasting.utils import pixel_to_rainfall\n",
    "from nowcasting.image import quick_read_frames\n",
    "\n",
    "\n",
    "def generate_output_model(start_datetime, data_dir, model_name = \"all_data_balanced_loss_iteration100\", iteration_number = 68000, pixel_type='normalised pixel values'):\n",
    "    \"\"\"\n",
    "    input: \n",
    "        start_datetime:   The date of the start of the 5 frames that you need for the prediction. \n",
    "                          So this is your t-20 min. \n",
    "                          A string, for example: '2018-06-01 13:35:00'\n",
    "        data_dir:         The path to the directory where you store the data\n",
    "        model_name:       String withthe name of the folder where the model can be found. \n",
    "                          For example: \"all_data_balanced_loss_iteration100\" \n",
    "                          (This is the one you will be working with for now)\n",
    "        iteration number: Integer to specify from which iteration you want the model. for example 68000\n",
    "        pixel_type:       The type of pixel values the model is trained on. \n",
    "    \n",
    "    Output: \n",
    "            fc:           The forecast for 20 frames in the future (shape=20x480x480) \n",
    "            test_data:    The 5 frames you used for the forecast\n",
    "    \"\"\"\n",
    "\n",
    "    # Initialise the encoder_forecaster\n",
    "    encoder = Encoder(encoder_params[0], encoder_params[1]).to(cfg.GLOBAL.DEVICE)\n",
    "    forecaster = Forecaster(forecaster_params[0], forecaster_params[1])\n",
    "    encoder_forecaster = EF(encoder, forecaster).to(cfg.GLOBAL.DEVICE)\n",
    "\n",
    "    # Load in the trained model\n",
    "    encoder_forecaster.load_state_dict(torch.load(f\"{model_name}/models/encoder_forecaster_{iteration_number}.pth\", map_location=torch.device(cfg.GLOBAL.DEVICE)))\n",
    "\n",
    "    # Load in some constants from the config.py file\n",
    "    IN_LEN = cfg.HKO.BENCHMARK.IN_LEN\n",
    "    SEQ_LEN = cfg.HKO.BENCHMARK.SEQ_LEN\n",
    "    SCALE_FACTOR = cfg.GLOBAL.NORMALIZE\n",
    "\n",
    "    # Load in the data, which are given in pixel values between 0-255 -> dBZ = value*0.5 - 32\n",
    "    datetime_clip = pd.date_range(start=start_datetime, periods=SEQ_LEN, freq='5min')\n",
    "    test_batch = load_frames(datetime_clip, data_dir)\n",
    "\n",
    "    if pixel_type == 'normalised pixel values':\n",
    "        test_batch = test_batch.astype(np.float32) / SCALE_FACTOR \n",
    "    if pixel_type == 'rainfall rates':\n",
    "        test_batch = pixel_to_rainfall(test_batch.astype(np.float32))\n",
    "        \n",
    "    test_data = test_batch[:IN_LEN, ...]\n",
    "    torch_test_data = torch.from_numpy(test_data).to(cfg.GLOBAL.DEVICE)\n",
    "\n",
    "    # calculate output\n",
    "    with torch.no_grad():\n",
    "        output = encoder_forecaster(torch_test_data)\n",
    "\n",
    "    if pixel_type == 'normalised pixel values':\n",
    "        fc = pixel_to_rainfall(output[:,0,0,:,:]*SCALE_FACTOR)\n",
    "        test_data = pixel_to_rainfall(test_data*SCALE_FACTOR)\n",
    "    if pixel_type == 'rainfall rates':\n",
    "        fc = output[:, 0, 0, :, :]\n",
    "\n",
    "    return fc, test_data # these values are rainfall rates, for both type of models.\n",
    "\n",
    "# Since the iterator does not work with the data that I downloaded for some reason, call function separately:\n",
    "def load_frames(datetime_clips, data_dir):\n",
    "    \"\"\"\n",
    "    In the original function in Eva's dataloader.py, it takes in batchsize=2.\n",
    "    bus since I now have batchsize is 1, datetime_clips is just 1 list with dates instead of 2.\n",
    "    therefore, clip is already the datetime that we are interested in.\n",
    "    the paths is only for if you have batchsize bigger than 1.\n",
    "    \"\"\"\n",
    "    frame_dat = np.zeros((cfg.HKO.BENCHMARK.SEQ_LEN, 1, 1, 480, 480))\n",
    "    for i, clip in enumerate(datetime_clips):\n",
    "        path = []\n",
    "        path = convert_datetime_to_filepath(clip, data_dir)\n",
    "        frames = quick_read_frames([path]) # I have it now as [path], since quick_read_frames takes the 0th element in it and withouth the list breackets it only reads the rist letter of the string.\n",
    "        frame_dat[i, 0, 0, :, :] = frames\n",
    "    return frame_dat\n",
    "\n",
    "def convert_datetime_to_filepath(date_time, data_dir):\n",
    "    \"\"\"\n",
    "    Convert datetime to filepath (depends on filetype)\n",
    "\n",
    "    Parameters\n",
    "    ----------\n",
    "    date_time : datetime64\n",
    "\n",
    "    Returns\n",
    "    -------\n",
    "    filepath : str\n",
    "\n",
    "    \"\"\"\n",
    "\n",
    "    # for the radar refl tar archive\n",
    "\n",
    "    year = \"%04d\" % date_time.year\n",
    "    month = \"%02d\" % date_time.month\n",
    "    day = \"%02d\" % date_time.day\n",
    "    next_day = \"%02d\" % (date_time.day+1)\n",
    "    hour = \"%02d\" % date_time.hour\n",
    "    minute = \"%02d\" % date_time.minute\n",
    "\n",
    "    year_folder = f'{year}'\n",
    "    day_folder = f'{year}-{month}-{day}'\n",
    "    file_str = f'RAD_NL25_PCP_NA_{year}{month}{day}{hour}{minute}.h5'\n",
    "\n",
    "    return os.path.join(data_dir, year_folder, day_folder, file_str)\n",
    "\n",
    "fc, input_data = generate_output_model('2018-06-01 13:35:00', os.getcwd() + '/data_event_2018/')"
   ]
  },
  {
   "cell_type": "markdown",
   "id": "closed-reserve",
   "metadata": {},
   "source": [
    "#### Get the colormap and coordinates"
   ]
  },
  {
   "cell_type": "code",
   "execution_count": 2,
   "id": "forty-amateur",
   "metadata": {},
   "outputs": [
    {
     "name": "stdout",
     "output_type": "stream",
     "text": [
      "Pysteps configuration file found at: C:\\Users\\Diewertje\\Python\\envs\\geo_env\\lib\\site-packages\\pysteps\\pystepsrc\n",
      "\n",
      "[ 0.05011872  0.0770312   0.11839499  0.18197009  0.27968338  0.42986623\n",
      "  0.66069345  1.01546899  1.56074996  2.39883292  3.68694506  5.66674061\n",
      "  8.7096359  13.38648842 20.57469156 31.6227766 ]\n"
     ]
    }
   ],
   "source": [
    "# The colormap:\n",
    "\n",
    "from pysteps.visualization import precipfields\n",
    "cmap_pysteps = precipfields.get_colormap('intensity', 'mm/h', colorscale='pysteps')  # other colorscale options: 'STEPS-BE', 'BOM-RF3'\n",
    "\n",
    "import matplotlib.colors \n",
    "# [0.08, 0.16, 0.25, 0.4, 0.63, 0.84, 1, 1.2, 1.4, 1.6, 2, 2.5, 4, 6.3,  10]\n",
    "new_norm = matplotlib.colors.BoundaryNorm(np.logspace(-2,1, 16),cmap_pysteps[0].N)\n",
    "new_norm\n",
    "\n",
    "new_norm2 = matplotlib.colors.BoundaryNorm(np.logspace(-1.3,0.5, 16),cmap_pysteps[0].N)\n",
    "print(np.logspace(-1.3,1.5,16))\n",
    "\n",
    "new_norm_30 = matplotlib.colors.BoundaryNorm(np.logspace(-1.3,1.5, 16),cmap_pysteps[0].N)\n"
   ]
  },
  {
   "cell_type": "markdown",
   "id": "acknowledged-piano",
   "metadata": {},
   "source": [
    "### Old approach to find the coordinates"
   ]
  },
  {
   "cell_type": "markdown",
   "id": "union-engine",
   "metadata": {},
   "source": [
    "The KNMI dataset gives images of 700x765 pixels. This covers north south: 55.97 - 48.9 Longitude (in 765 pixels) and West east: 0-10.86 Latitude (in 700 pixels). (see KNMI website)\n",
    "\n",
    "The model takes 480x480 as input, and outputs that as well. (See figure 3.4 of Eva's Thesis).\n",
    "\n",
    "These are the pixels: YMIN = 141, YMAX = 621, XMIN = 109, XMAX = 589\n",
    "\n",
    "That means that the image goes from:  YMIN = 54.67, YMAX = 50.23, XMIN = 1.69, XMAX = 9.14\n",
    "\n",
    "\n",
    "**Note: we only want to display the region of interest 360x360 pixels, so this is:\n",
    "YMIN = 201, YMAX = 661, XMIN = 169, XMAX = 529\n",
    "That means that the image goes from:  YMIN = 54.11, YMAX = 49.86, XMIN = 2.62, XMAX = 8.21**"
   ]
  },
  {
   "cell_type": "code",
   "execution_count": 4,
   "id": "endless-beauty",
   "metadata": {},
   "outputs": [
    {
     "data": {
      "text/plain": [
       "49.861150326797386"
      ]
     },
     "execution_count": 4,
     "metadata": {},
     "output_type": "execute_result"
    }
   ],
   "source": [
    "# Calculate the longitude\n",
    "55.97- (55.97-48.9)/765*661"
   ]
  },
  {
   "cell_type": "code",
   "execution_count": 6,
   "id": "individual-orlando",
   "metadata": {},
   "outputs": [
    {
     "data": {
      "text/plain": [
       "2.6219142857142854"
      ]
     },
     "execution_count": 6,
     "metadata": {},
     "output_type": "execute_result"
    }
   ],
   "source": [
    "# Calculate the latitude\n",
    "0 + 10.86/700*169"
   ]
  },
  {
   "cell_type": "code",
   "execution_count": 17,
   "id": "hourly-improvement",
   "metadata": {},
   "outputs": [],
   "source": [
    "LON_KNMI = np.linspace(54.11, 49.86, 360)   # np.linspace(54.67,50.23,480)\n",
    "LAT_KNMI = np.linspace(2.62, 8.21, 360)     # np.linspace(1.69, 9.14, 480)"
   ]
  },
  {
   "cell_type": "markdown",
   "id": "literary-reunion",
   "metadata": {},
   "source": [
    "### New approach to find the coordinates (correct)"
   ]
  },
  {
   "cell_type": "code",
   "execution_count": 67,
   "id": "champion-kuwait",
   "metadata": {},
   "outputs": [],
   "source": [
    "# The lat and lon on the KNMI website are given in nomral WGS84 I think. only that the array contains stereographic information\n",
    "llcrnrlon = 0\n",
    "llcrnrlat = 48.9\n",
    "urcrnrlon = 10.86\n",
    "urcrnrlat = 55.97\n",
    "width = 700\n",
    "height = 765\n",
    "\n",
    "lonlist = [llcrnrlon, urcrnrlon]\n",
    "latlist = [llcrnrlat, urcrnrlat]"
   ]
  },
  {
   "cell_type": "markdown",
   "id": "ambient-million",
   "metadata": {},
   "source": [
    "These Lat and Lon are in the projection system: PROJ.4+proj=stere +lat_0=90 +lon_0=0 +lat_ts=60 +a=6378.14 +b=6356.75 +x_0=0 y_0=0. We want to convert them to WGS84, oftewel EPSG:4326, which is WGS84, since that is the coordinate system of the basemap.\n",
    "\n",
    "This is done in the cells below: (using https://gis.stackexchange.com/questions/253674/converting-projected-coordinates-to-lat-lon-using-pyproj-fails)"
   ]
  },
  {
   "cell_type": "markdown",
   "id": "unusual-portal",
   "metadata": {},
   "source": [
    "#### Get the proj code for the shapefile with the map of the netherlands from naturalearthdata.com"
   ]
  },
  {
   "cell_type": "code",
   "execution_count": 127,
   "id": "developmental-petersburg",
   "metadata": {},
   "outputs": [
    {
     "name": "stdout",
     "output_type": "stream",
     "text": [
      "Shape prj is: GEOGCS[\"GCS_WGS_1984\",DATUM[\"D_WGS_1984\",SPHEROID[\"WGS_1984\",6378137.0,298.257223563]],PRIMEM[\"Greenwich\",0.0],UNIT[\"Degree\",0.0174532925199433]]\n",
      "WKT is: GEOGCS[\"WGS 84\",DATUM[\"WGS_1984\",SPHEROID[\"WGS 84\",6378137,298.257223563,AUTHORITY[\"EPSG\",\"7030\"]],AUTHORITY[\"EPSG\",\"6326\"]],PRIMEM[\"Greenwich\",0],UNIT[\"Degree\",0.0174532925199433],AXIS[\"Longitude\",EAST],AXIS[\"Latitude\",NORTH]]\n",
      "Proj4 is : +proj=longlat +datum=WGS84 +no_defs\n",
      "EPSG is: 4326\n"
     ]
    }
   ],
   "source": [
    "path = 'C:/Users/Diewertje/Documents/Master_GRS/New_Thesis/code_for_group/shapefile_naturalearthdata/ne_10m_admin_0_map_units.prj'\n",
    " # change this path to your path, the .prj file is also on the git. (But you do not need this cell for the rest of the notebook)\n",
    "    \n",
    "import sys\n",
    "from osgeo import osr\n",
    "\n",
    "def esriprj2standards(shapeprj_path):\n",
    "    with open(shapeprj_path, 'r') as f:\n",
    "        prj_txt = f.read()\n",
    "    srs = osr.SpatialReference()\n",
    "    srs.ImportFromESRI([prj_txt])\n",
    "    print('Shape prj is: ' + prj_txt)\n",
    "    print('WKT is: ' + str(srs.ExportToWkt()))\n",
    "    print('Proj4 is : ' + str(srs.ExportToProj4()))\n",
    "    srs.AutoIdentifyEPSG()\n",
    "    print('EPSG is: ' + str(srs.GetAuthorityCode(None)))\n",
    "    \n",
    "esriprj2standards(path)"
   ]
  },
  {
   "cell_type": "code",
   "execution_count": 138,
   "id": "sporting-mixture",
   "metadata": {},
   "outputs": [
    {
     "name": "stdout",
     "output_type": "stream",
     "text": [
      "[0.0, 687772.9221440635]\n",
      "[-4469595.820683451, -3585031.2841974413]\n",
      "This are the stereographic coordinates that are linked to the WGS84 coordinates of our area\n"
     ]
    }
   ],
   "source": [
    "# (https://gis.stackexchange.com/questions/7608/shapefile-prj-to-postgis-srid-lookup-table/7615#7615)\n",
    "\n",
    "\n",
    "import pyproj\n",
    "\n",
    "# original projection: (note, a and b are multiplied by 1000, since they need to be in m instead of km)\n",
    "proj_KNMI = pyproj.Proj(\"proj=stere +lat_0=90 +lon_0=0 +lat_ts=60 +a=6378140 +b=6356750 +x_0=0 y_0=0\")\n",
    "# wanted projection:\n",
    "proj_NatEarth = pyproj.Proj(\"+proj= longlat +datum=WGS84 +no_defs\") #init='epsg:4326') # add eqc after = to get it in plattee carree projection.\n",
    "\n",
    "LON, LAT = pyproj.transform(proj_NatEarth, proj_KNMI, lonlist, latlist)\n",
    "print(LON)\n",
    "print(LAT)\n",
    "print('This are the stereographic coordinates that are linked to the WGS84 coordinates of our area')\n"
   ]
  },
  {
   "cell_type": "code",
   "execution_count": 157,
   "id": "polished-speaker",
   "metadata": {},
   "outputs": [
    {
     "name": "stdout",
     "output_type": "stream",
     "text": [
      "50.52325316710209\n"
     ]
    }
   ],
   "source": [
    "# make the grid and apply the mask\n",
    "lons = np.linspace(LON[0], LON[1], width)[(141+60):(141+420)]\n",
    "lats = np.linspace(LAT[0], LAT[1], height)[(109+60):(109+420)]\n",
    "\n",
    "corr_LAT, corr_LON = pyproj.transform(proj_KNMI,proj_NatEarth, lons, lats)\n",
    "print(corr_LON[0])"
   ]
  },
  {
   "cell_type": "code",
   "execution_count": 158,
   "id": "reasonable-copper",
   "metadata": {},
   "outputs": [
    {
     "name": "stdout",
     "output_type": "stream",
     "text": [
      "89.99951578660865\n"
     ]
    }
   ],
   "source": [
    "\"\"\"\n",
    "if we would assume that the coordinates on the KNMI website are given in stereographic coordinates instead, \n",
    "then we would only need to make a list to get these coordinates for every gridpoint and then transfer them \n",
    "to the NatEarth (WGS84) coordinate system. However, as you can see in this cell, this does not give anything good.  \n",
    "\n",
    "\"\"\"\n",
    "\n",
    "lons = np.linspace(lonlist[0], lonlist[0], width)[(141+60):(141+420)] \n",
    "lats = np.linspace(latlist[0], latlist[1], height)[(109+60):(109+420)]\n",
    "\n",
    "wrong_corr_LAT, wrong_corr_LON = pyproj.transform(proj_KNMI,proj_NatEarth, lons, lats)\n",
    "print(wrong_corr_LON[0])"
   ]
  },
  {
   "cell_type": "markdown",
   "id": "foster-zimbabwe",
   "metadata": {},
   "source": [
    "#### Plot the predictions\n",
    "\n",
    "In the cell below you find a simple function to plot the frames, and a funciton where automatically 5 of them get plotted for you, as an example of how to use it."
   ]
  },
  {
   "cell_type": "code",
   "execution_count": 153,
   "id": "aging-current",
   "metadata": {},
   "outputs": [
    {
     "data": {
      "image/png": "[encoded data removed]",
      "text/plain": [
       "<Figure size 1080x432 with 2 Axes>"
      ]
     },
     "metadata": {
      "needs_background": "light"
     },
     "output_type": "display_data"
    },
    {
     "data": {
      "text/plain": [
       "<matplotlib.image.AxesImage at 0x1c010ba15e0>"
      ]
     },
     "execution_count": 153,
     "metadata": {},
     "output_type": "execute_result"
    }
   ],
   "source": [
    "from cartopy.io import shapereader\n",
    "import numpy as np\n",
    "import geopandas\n",
    "import matplotlib.pyplot as plt\n",
    "\n",
    "import cartopy.crs as ccrs\n",
    "\n",
    "# get natural earth data (http://www.naturalearthdata.com/)\n",
    "# this is in coordinate system WGS84 datum\n",
    "# this information can be found on: https://www.naturalearthdata.com/features/\n",
    "\n",
    "# get country borders\n",
    "resolution = '10m'\n",
    "category = 'cultural'\n",
    "name = 'admin_0_countries'\n",
    "\n",
    "shpfilename = shapereader.natural_earth(resolution, category, name)\n",
    "\n",
    "# read the shapefile using geopandas\n",
    "df = geopandas.read_file(shpfilename)\n",
    "\n",
    "# read the german borders\n",
    "poly = df.loc[df['ADMIN'] == ('Netherlands' or 'Belgium' or 'Germany')]['geometry'].values[0]\n",
    "\n",
    "def simple_precip_plot(frame, title, norm= new_norm_30, cmap=cmap_pysteps[0]): \n",
    "    \"\"\"\n",
    "    This function plots the observation or prediction on top of a map of the netherlands, \n",
    "    with gridlines indicating the coordinates\n",
    "    \n",
    "    frame     = a frame from the forecast or the input data\n",
    "    title     = the title for the frame you plot, for example: observation t=0, or forecast t=+5 min\n",
    "    norm norm = type of norm you chose. Can be cmap_pysteps[1] (this is what Eva van der Kooij had used in her thesis,\n",
    "    I now often use or new_norm_30 to scale to analyse some differences. I do not know yet what I will use in the \n",
    "    final maps. Maybe discuss this with Marc?\n",
    "    cmap      = the colormap: cmap_pysteps[0]\n",
    "    \"\"\"\n",
    "    projection = ccrs.PlateCarree() #ccrs.Stereographic()\n",
    "    \n",
    "    plt.figure(figsize=(15,6))\n",
    "    # Plot the map of the netherlands\n",
    "    ax = plt.axes(projection=projection) \n",
    "    ax.add_geometries(poly, crs=projection, facecolor='none', \n",
    "                      edgecolor='0.5')\n",
    "    ax.set_extent([corr_LAT[0],corr_LAT[-1], corr_LON[-1],corr_LON[0]], crs=projection) \n",
    "    \n",
    "    # Get gridlines and coordinates\n",
    "    gl = ax.gridlines(crs=projection, draw_labels=True, \n",
    "                  linewidth=2, color='gray', alpha=0.5, linestyle='--')\n",
    "    gl.xlabels_top = False\n",
    "    gl.ylabels_right = False\n",
    "    \n",
    "    # plot the forecast with colorbar\n",
    "    fig = plt.imshow(frame[60:420, 60:420], cmap=cmap, norm=norm, extent=[corr_LAT[0],corr_LAT[-1], corr_LON[-1],corr_LON[0]])\n",
    "    plt.colorbar(fig, fraction=0.0476, pad=0.04, orientation='vertical')\n",
    "    \n",
    "    plt.title(f'{title}', fontsize=15)\n",
    "    plt.tight_layout()\n",
    "    plt.show()\n",
    "    return fig\n",
    "\n",
    "simple_precip_plot(input_data[4,0,0,:,:], 'observation t=0')"
   ]
  },
  {
   "cell_type": "markdown",
   "id": "welcome-bankruptcy",
   "metadata": {},
   "source": [
    "# Code website: https://www.irenegarciamarti.com/post/extract-rainfall-data-from-radar-files-in-stereo-given-lat-lon-coordinates/"
   ]
  },
  {
   "cell_type": "code",
   "execution_count": 109,
   "id": "configured-designation",
   "metadata": {},
   "outputs": [
    {
     "name": "stdout",
     "output_type": "stream",
     "text": [
      "\n",
      "Reprojecting #1: WGS84 locations to stereographic\n",
      "\t 1): 328821.2062353422, -4013985.2605606145 \n",
      "\t 2): 328435.09537221567, -3995963.7614448178 \n",
      "\t 3): 341036.326499126, -4004692.6709318305 \n",
      "\t 4): 347976.4484452829, -4018801.16761888 \n",
      "\t 5): 329923.7566923048, -4009339.05980176 \n",
      "\n",
      "Reprojecting #2: WGS84 NL BBOX corners to stereographic)\n",
      "\t 0): 0.0, -4415003.312762093 \n",
      "\t 1): 700000.9081481533, -3649999.3449603026 \n",
      "\n",
      "Finding position of stereo point in the radar grid\n",
      "\t 1): 401, 329 \n",
      "\t 2): 419, 328 \n",
      "\t 3): 410, 341 \n",
      "\t 4): 396, 348 \n",
      "\t 5): 406, 330 \n",
      "[[401 329]\n",
      " [419 328]\n",
      " [410 341]\n",
      " [396 348]\n",
      " [406 330]]\n",
      "<HDF5 file \"2018-06-01RAD_NL25_PCP_NA_201806011335.h5\" (mode r+)>\n"
     ]
    },
    {
     "ename": "KeyError",
     "evalue": "'Unable to open object (component not found)'",
     "output_type": "error",
     "traceback": [
      "\u001b[1;31m---------------------------------------------------------------------------\u001b[0m",
      "\u001b[1;31mKeyError\u001b[0m                                  Traceback (most recent call last)",
      "\u001b[1;32mC:\\Users\\DIEWER~1\\AppData\\Local\\Temp/ipykernel_19840/2408848331.py\u001b[0m in \u001b[0;36m<cell line: 100>\u001b[1;34m()\u001b[0m\n\u001b[0;32m     98\u001b[0m \u001b[0mf\u001b[0m \u001b[1;33m=\u001b[0m \u001b[0mh5py\u001b[0m\u001b[1;33m.\u001b[0m\u001b[0mFile\u001b[0m\u001b[1;33m(\u001b[0m\u001b[0mpath_to_your_radar_file\u001b[0m \u001b[1;33m+\u001b[0m \u001b[0mfile_name\u001b[0m\u001b[1;33m)\u001b[0m\u001b[1;33m\u001b[0m\u001b[1;33m\u001b[0m\u001b[0m\n\u001b[0;32m     99\u001b[0m \u001b[0mprint\u001b[0m\u001b[1;33m(\u001b[0m\u001b[0mf\u001b[0m\u001b[1;33m)\u001b[0m\u001b[1;33m\u001b[0m\u001b[1;33m\u001b[0m\u001b[0m\n\u001b[1;32m--> 100\u001b[1;33m \u001b[0ma\u001b[0m \u001b[1;33m=\u001b[0m \u001b[0mf\u001b[0m\u001b[1;33m[\u001b[0m\u001b[1;34m'image1'\u001b[0m\u001b[1;33m+\u001b[0m\u001b[1;34m'/image_data'\u001b[0m\u001b[1;33m]\u001b[0m\u001b[1;33m\u001b[0m\u001b[1;33m\u001b[0m\u001b[0m\n\u001b[0m\u001b[0;32m    101\u001b[0m \u001b[0marr_float\u001b[0m \u001b[1;33m=\u001b[0m \u001b[0mnp\u001b[0m\u001b[1;33m.\u001b[0m\u001b[0marray\u001b[0m\u001b[1;33m(\u001b[0m\u001b[0ma\u001b[0m\u001b[1;33m)\u001b[0m\u001b[1;33m.\u001b[0m\u001b[0mastype\u001b[0m\u001b[1;33m(\u001b[0m\u001b[1;34m\"float\"\u001b[0m\u001b[1;33m)\u001b[0m\u001b[1;33m\u001b[0m\u001b[1;33m\u001b[0m\u001b[0m\n\u001b[0;32m    102\u001b[0m \u001b[0marr_masked\u001b[0m \u001b[1;33m=\u001b[0m \u001b[0mma\u001b[0m\u001b[1;33m.\u001b[0m\u001b[0mmasked_equal\u001b[0m\u001b[1;33m(\u001b[0m\u001b[0marr_float\u001b[0m\u001b[1;33m,\u001b[0m \u001b[1;36m65535\u001b[0m\u001b[1;33m)\u001b[0m\u001b[1;33m\u001b[0m\u001b[1;33m\u001b[0m\u001b[0m\n",
      "\u001b[1;32mh5py\\_objects.pyx\u001b[0m in \u001b[0;36mh5py._objects.with_phil.wrapper\u001b[1;34m()\u001b[0m\n",
      "\u001b[1;32mh5py\\_objects.pyx\u001b[0m in \u001b[0;36mh5py._objects.with_phil.wrapper\u001b[1;34m()\u001b[0m\n",
      "\u001b[1;32m~\\Python\\envs\\geo_env\\lib\\site-packages\\h5py\\_hl\\group.py\u001b[0m in \u001b[0;36m__getitem__\u001b[1;34m(self, name)\u001b[0m\n\u001b[0;32m    262\u001b[0m                 \u001b[1;32mraise\u001b[0m \u001b[0mValueError\u001b[0m\u001b[1;33m(\u001b[0m\u001b[1;34m\"Invalid HDF5 object reference\"\u001b[0m\u001b[1;33m)\u001b[0m\u001b[1;33m\u001b[0m\u001b[1;33m\u001b[0m\u001b[0m\n\u001b[0;32m    263\u001b[0m         \u001b[1;32melse\u001b[0m\u001b[1;33m:\u001b[0m\u001b[1;33m\u001b[0m\u001b[1;33m\u001b[0m\u001b[0m\n\u001b[1;32m--> 264\u001b[1;33m             \u001b[0moid\u001b[0m \u001b[1;33m=\u001b[0m \u001b[0mh5o\u001b[0m\u001b[1;33m.\u001b[0m\u001b[0mopen\u001b[0m\u001b[1;33m(\u001b[0m\u001b[0mself\u001b[0m\u001b[1;33m.\u001b[0m\u001b[0mid\u001b[0m\u001b[1;33m,\u001b[0m \u001b[0mself\u001b[0m\u001b[1;33m.\u001b[0m\u001b[0m_e\u001b[0m\u001b[1;33m(\u001b[0m\u001b[0mname\u001b[0m\u001b[1;33m)\u001b[0m\u001b[1;33m,\u001b[0m \u001b[0mlapl\u001b[0m\u001b[1;33m=\u001b[0m\u001b[0mself\u001b[0m\u001b[1;33m.\u001b[0m\u001b[0m_lapl\u001b[0m\u001b[1;33m)\u001b[0m\u001b[1;33m\u001b[0m\u001b[1;33m\u001b[0m\u001b[0m\n\u001b[0m\u001b[0;32m    265\u001b[0m \u001b[1;33m\u001b[0m\u001b[0m\n\u001b[0;32m    266\u001b[0m         \u001b[0motype\u001b[0m \u001b[1;33m=\u001b[0m \u001b[0mh5i\u001b[0m\u001b[1;33m.\u001b[0m\u001b[0mget_type\u001b[0m\u001b[1;33m(\u001b[0m\u001b[0moid\u001b[0m\u001b[1;33m)\u001b[0m\u001b[1;33m\u001b[0m\u001b[1;33m\u001b[0m\u001b[0m\n",
      "\u001b[1;32mh5py\\_objects.pyx\u001b[0m in \u001b[0;36mh5py._objects.with_phil.wrapper\u001b[1;34m()\u001b[0m\n",
      "\u001b[1;32mh5py\\_objects.pyx\u001b[0m in \u001b[0;36mh5py._objects.with_phil.wrapper\u001b[1;34m()\u001b[0m\n",
      "\u001b[1;32mh5py\\h5o.pyx\u001b[0m in \u001b[0;36mh5py.h5o.open\u001b[1;34m()\u001b[0m\n",
      "\u001b[1;31mKeyError\u001b[0m: 'Unable to open object (component not found)'"
     ]
    }
   ],
   "source": [
    "import h5py\n",
    "import pyproj\n",
    "import numpy as np\n",
    "import numpy.ma as ma\n",
    "from pyproj import Transformer\n",
    "\n",
    "def pixel_number(lonlist, latlist):\n",
    "\n",
    "    # A (big) bounding box centered in the NL\n",
    "    llcrnrlon = 0\n",
    "    llcrnrlat = 49.36206\n",
    "    urcrnrlon = 10.856429\n",
    "    urcrnrlat = 55.388973\n",
    "\n",
    "    # We specify the width and length of the target raster,\n",
    "    # in this case rainfall radar files from KNMI\n",
    "    width = 700\n",
    "    height = 765\n",
    "\n",
    "    # We define the two projections used here from a proj4 string. Note that\n",
    "    # in the original definition of the stereo string in KNMI's documentation the\n",
    "    # semi-minor/major axes come in km, but it seems pyproj expects meters.\n",
    "    proj_wgs84 = pyproj.Proj(\"+proj=longlat +datum=WGS84 +no_defs\")\n",
    "    proj_stereo_rad_nl = pyproj.Proj(\"+proj=stere +lat_0=90 +lon_0=0 +lat_ts=60 +a=6378140 +b=6356750 +x_0=0 y_0=0\")\n",
    "\n",
    "    # --------------------------------------------------------------------- #\n",
    "    # Part 1: Reprojections between different systems with pyproj\n",
    "    # --------------------------------------------------------------------- #\n",
    "\n",
    "    original_points = list(zip(lonlist, latlist))\n",
    "\n",
    "    # We transform points from WGS84 to stereo\n",
    "    i = 1\n",
    "    transproj_eq = Transformer.from_proj(proj_wgs84, proj_stereo_rad_nl, always_xy=True, skip_equivalent=True)\n",
    "    llonsstereo, llatsstereo = [[] for i in range(2)]\n",
    "    print(\"\\nReprojecting #1: WGS84 locations to stereographic\")\n",
    "    for pt in transproj_eq.itransform(original_points):\n",
    "        lon_stereo = pt[0]\n",
    "        lat_stereo = pt[1]\n",
    "        llonsstereo.append(lon_stereo)\n",
    "        llatsstereo.append(lat_stereo)\n",
    "        print(\"\\t {0}): {1}, {2} \".format(i, lon_stereo, lat_stereo))\n",
    "        i += 1\n",
    "\n",
    "    # ---------------------------------------------------------------------- #\n",
    "    # Part 2: Getting positions in a stereo raster file with cartopy\n",
    "    # ---------------------------------------------------------------------- #\n",
    "\n",
    "    # Small arrays packing together the lat/lons of the NL bbox\n",
    "    lons_bbox = np.array([llcrnrlon, urcrnrlon])\n",
    "    lats_bbox = np.array([llcrnrlat, urcrnrlat])\n",
    "    corners_bbox = list(zip(lons_bbox, lats_bbox))\n",
    "\n",
    "    i = 0\n",
    "    print(\"\\nReprojecting #2: WGS84 NL BBOX corners to stereographic)\")\n",
    "    lats_bbox_stereo, lons_bbox_stereo = [[] for i in range(2)]\n",
    "    for pt in transproj_eq.itransform(corners_bbox):\n",
    "        lon_stereo = pt[0]\n",
    "        lat_stereo = pt[1]\n",
    "        lons_bbox_stereo.append(lon_stereo)\n",
    "        lats_bbox_stereo.append(lat_stereo)\n",
    "        print(\"\\t {0}): {1}, {2} \".format(i, lon_stereo, lat_stereo))\n",
    "        i += 1\n",
    "\n",
    "    # Define a grid matching exactly the projected stereo corners. Then fill\n",
    "    # the grid with the actual thresholds of the chunks along both axes\n",
    "    xs = np.linspace(lons_bbox_stereo[0], lons_bbox_stereo[1], width)\n",
    "    ys = np.linspace(lats_bbox_stereo[0], lats_bbox_stereo[1], height)\n",
    "    x2d, y2d = np.meshgrid(xs, ys)\n",
    "\n",
    "    i = 1\n",
    "    lpos_xy = []\n",
    "    transformed_points = list(zip(llonsstereo, llatsstereo))\n",
    "    print(\"\\nFinding position of stereo point in the radar grid\")\n",
    "    for pt in transformed_points:\n",
    "        pos = np.where((x2d > pt[0]) & (y2d > pt[1]))\n",
    "        pos_x = np.amin(pos[0])\n",
    "        pos_y = np.amin(pos[1])\n",
    "        lpos_xy.append([pos_x, pos_y])\n",
    "        print(\"\\t {0}): {1}, {2} \".format(i, pos_x, pos_y))\n",
    "        i+= 1\n",
    "\n",
    "    return np.array(lpos_xy)\n",
    "\n",
    "################\n",
    "# Main program #\n",
    "################\n",
    "\n",
    "path_to_your_radar_file = r\"C:\\Users\\Diewertje\\Documents\\Master_GRS\\New_Thesis\\code_for_group\\data_event_2018\\2018\\2018-06-01\"\n",
    "file_name = r\"RAD_NL25_PCP_NA_201806011335.h5\"\n",
    "\n",
    "lons = [4.6831494430000005, 4.698676497, 4.867517469, 4.948734154, 4.704202767]\n",
    "lats = [52.68043576, 52.83607439, 52.75172524, 52.62504707, 52.71969762]\n",
    "\n",
    "pixel_num = pixel_number(lons, lats)\n",
    "print(pixel_num)\n",
    "\n",
    "f = h5py.File(path_to_your_radar_file + file_name)\n",
    "print(f)\n",
    "a = f['image1'+'/image_data']\n",
    "arr_float = np.array(a).astype(\"float\")\n",
    "arr_masked = ma.masked_equal(arr_float, 65535)\n",
    "arr_flipped = np.flipud(arr_masked)/100\n",
    "timestamp = file_name[-15:-3]\n",
    "\n",
    "# Toggle this to see a 5-min radar image\n",
    "# plt.imshow(arr_flipped, interpolation=\"None\")\n",
    "# plt.show()\n",
    "\n",
    "print(\"Getting rainfall data from radar file at X/Y positions:\")\n",
    "for i in range(len(lons)):\n",
    "    xpix = int(pixel_num[i, 0])\n",
    "    ypix = int(pixel_num[i, 1])\n",
    "    value = np.round(np.mean(arr_flipped[xpix-1:xpix+2, ypix-1:ypix+2]), decimals=4)\n",
    "    print(\"\\t X: {0}, Y:{1}, value:{2}\".format(xpix, ypix, value ))\n"
   ]
  },
  {
   "cell_type": "code",
   "execution_count": null,
   "id": "plastic-cattle",
   "metadata": {},
   "outputs": [],
   "source": []
  }
 ],
 "metadata": {
  "kernelspec": {
   "display_name": "Python [conda env:geo_env]",
   "language": "python",
   "name": "conda-env-geo_env-py"
  },
  "language_info": {
   "codemirror_mode": {
    "name": "ipython",
    "version": 3
   },
   "file_extension": ".py",
   "mimetype": "text/x-python",
   "name": "python",
   "nbconvert_exporter": "python",
   "pygments_lexer": "ipython3",
   "version": "3.8.2"
  }
 },
 "nbformat": 4,
 "nbformat_minor": 5
}
